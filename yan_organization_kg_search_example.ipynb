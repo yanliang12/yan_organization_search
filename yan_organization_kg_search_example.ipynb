{
 "cells": [
  {
   "cell_type": "code",
   "execution_count": 1,
   "id": "0fbe368b",
   "metadata": {},
   "outputs": [
    {
     "name": "stderr",
     "output_type": "stream",
     "text": [
      "/usr/local/lib/python3.7/dist-packages/tensorflow/python/framework/dtypes.py:516: FutureWarning: Passing (type, 1) or '1type' as a synonym of type is deprecated; in a future version of numpy, it will be understood as (type, (1,)) / '(1,)type'.\n",
      "  _np_qint8 = np.dtype([(\"qint8\", np.int8, 1)])\n",
      "/usr/local/lib/python3.7/dist-packages/tensorflow/python/framework/dtypes.py:517: FutureWarning: Passing (type, 1) or '1type' as a synonym of type is deprecated; in a future version of numpy, it will be understood as (type, (1,)) / '(1,)type'.\n",
      "  _np_quint8 = np.dtype([(\"quint8\", np.uint8, 1)])\n",
      "/usr/local/lib/python3.7/dist-packages/tensorflow/python/framework/dtypes.py:518: FutureWarning: Passing (type, 1) or '1type' as a synonym of type is deprecated; in a future version of numpy, it will be understood as (type, (1,)) / '(1,)type'.\n",
      "  _np_qint16 = np.dtype([(\"qint16\", np.int16, 1)])\n",
      "/usr/local/lib/python3.7/dist-packages/tensorflow/python/framework/dtypes.py:519: FutureWarning: Passing (type, 1) or '1type' as a synonym of type is deprecated; in a future version of numpy, it will be understood as (type, (1,)) / '(1,)type'.\n",
      "  _np_quint16 = np.dtype([(\"quint16\", np.uint16, 1)])\n",
      "/usr/local/lib/python3.7/dist-packages/tensorflow/python/framework/dtypes.py:520: FutureWarning: Passing (type, 1) or '1type' as a synonym of type is deprecated; in a future version of numpy, it will be understood as (type, (1,)) / '(1,)type'.\n",
      "  _np_qint32 = np.dtype([(\"qint32\", np.int32, 1)])\n",
      "/usr/local/lib/python3.7/dist-packages/tensorflow/python/framework/dtypes.py:525: FutureWarning: Passing (type, 1) or '1type' as a synonym of type is deprecated; in a future version of numpy, it will be understood as (type, (1,)) / '(1,)type'.\n",
      "  np_resource = np.dtype([(\"resource\", np.ubyte, 1)])\n"
     ]
    },
    {
     "name": "stdout",
     "output_type": "stream",
     "text": [
      "WARNING:tensorflow:From /usr/local/lib/python3.7/dist-packages/tensorflow/python/ops/init_ops.py:1251: calling VarianceScaling.__init__ (from tensorflow.python.ops.init_ops) with dtype is deprecated and will be removed in a future version.\n",
      "Instructions for updating:\n",
      "Call initializer instance with the dtype argument instead of passing it to the constructor\n"
     ]
    },
    {
     "name": "stderr",
     "output_type": "stream",
     "text": [
      "/usr/local/lib/python3.7/dist-packages/tensorboard/compat/tensorflow_stub/dtypes.py:541: FutureWarning: Passing (type, 1) or '1type' as a synonym of type is deprecated; in a future version of numpy, it will be understood as (type, (1,)) / '(1,)type'.\n",
      "  _np_qint8 = np.dtype([(\"qint8\", np.int8, 1)])\n",
      "/usr/local/lib/python3.7/dist-packages/tensorboard/compat/tensorflow_stub/dtypes.py:542: FutureWarning: Passing (type, 1) or '1type' as a synonym of type is deprecated; in a future version of numpy, it will be understood as (type, (1,)) / '(1,)type'.\n",
      "  _np_quint8 = np.dtype([(\"quint8\", np.uint8, 1)])\n",
      "/usr/local/lib/python3.7/dist-packages/tensorboard/compat/tensorflow_stub/dtypes.py:543: FutureWarning: Passing (type, 1) or '1type' as a synonym of type is deprecated; in a future version of numpy, it will be understood as (type, (1,)) / '(1,)type'.\n",
      "  _np_qint16 = np.dtype([(\"qint16\", np.int16, 1)])\n",
      "/usr/local/lib/python3.7/dist-packages/tensorboard/compat/tensorflow_stub/dtypes.py:544: FutureWarning: Passing (type, 1) or '1type' as a synonym of type is deprecated; in a future version of numpy, it will be understood as (type, (1,)) / '(1,)type'.\n",
      "  _np_quint16 = np.dtype([(\"quint16\", np.uint16, 1)])\n",
      "/usr/local/lib/python3.7/dist-packages/tensorboard/compat/tensorflow_stub/dtypes.py:545: FutureWarning: Passing (type, 1) or '1type' as a synonym of type is deprecated; in a future version of numpy, it will be understood as (type, (1,)) / '(1,)type'.\n",
      "  _np_qint32 = np.dtype([(\"qint32\", np.int32, 1)])\n",
      "/usr/local/lib/python3.7/dist-packages/tensorboard/compat/tensorflow_stub/dtypes.py:550: FutureWarning: Passing (type, 1) or '1type' as a synonym of type is deprecated; in a future version of numpy, it will be understood as (type, (1,)) / '(1,)type'.\n",
      "  np_resource = np.dtype([(\"resource\", np.ubyte, 1)])\n",
      "2021-09-18 09:04:08.236480: I tensorflow/core/platform/cpu_feature_guard.cc:142] Your CPU supports instructions that this TensorFlow binary was not compiled to use: AVX2 FMA\n",
      "2021-09-18 09:04:08.244153: I tensorflow/core/platform/profile_utils/cpu_utils.cc:94] CPU Frequency: 2208005000 Hz\n",
      "2021-09-18 09:04:08.246622: I tensorflow/compiler/xla/service/service.cc:168] XLA service 0x930a050 executing computations on platform Host. Devices:\n",
      "2021-09-18 09:04:08.246664: I tensorflow/compiler/xla/service/service.cc:175]   StreamExecutor device (0): <undefined>, <undefined>\n",
      "2021-09-18 09:04:09.005089: W tensorflow/compiler/jit/mark_for_compilation_pass.cc:1412] (One-time warning): Not using XLA:CPU for cluster because envvar TF_XLA_FLAGS=--tf_xla_cpu_global_jit was not set.  If you want XLA:CPU, either set that envvar, or use experimental_jit_scope to enable XLA:CPU.  To confirm that XLA is active, pass --vmodule=xla_compilation_cache=1 (as a proper command-line flag, not via TF_XLA_FLAGS) or set the envvar XLA_FLAGS=--xla_hlo_profile.\n",
      "rm: cannot remove 'neo4j-community-3.5.12/data/dbms/auth': No such file or directory\n"
     ]
    },
    {
     "name": "stdout",
     "output_type": "stream",
     "text": [
      "Changed password for user 'neo4j'.\n",
      "Active database: graph.db\n",
      "Directories in use:\n",
      "  home:         /jessica/neo4j-community-3.5.12\n",
      "  config:       /jessica/neo4j-community-3.5.12/conf\n",
      "  logs:         /jessica/neo4j-community-3.5.12/logs\n",
      "  plugins:      /jessica/neo4j-community-3.5.12/plugins\n",
      "  import:       NOT SET\n",
      "  data:         /jessica/neo4j-community-3.5.12/data\n",
      "  certificates: /jessica/neo4j-community-3.5.12/certificates\n",
      "  run:          /jessica/neo4j-community-3.5.12/run\n",
      "Starting Neo4j.\n",
      "Started neo4j (pid 321). It is available at http://0.0.0.0:5611/\n",
      "There may be a short delay until the server is ready.\n",
      "See /jessica/neo4j-community-3.5.12/logs/neo4j.log for current status.\n"
     ]
    },
    {
     "name": "stderr",
     "output_type": "stream",
     "text": [
      "  % Total    % Received % Xferd  Average Speed   Time    Time     Time  Current\n",
      "                                 Dload  Upload   Total   Spent    Left  Speed\n",
      "  0     0    0     0    0     0      0      0 --:--:-- --:--:-- --:--:--     0curl: (7) Failed to connect to localhost port 9344: Connection refused\n",
      "  % Total    % Received % Xferd  Average Speed   Time    Time     Time  Current\n",
      "                                 Dload  Upload   Total   Spent    Left  Speed\n",
      "  0     0    0     0    0     0      0      0 --:--:-- --:--:-- --:--:--     0curl: (7) Failed to connect to localhost port 9344: Connection refused\n",
      "warning: usage of JAVA_HOME is deprecated, use ES_JAVA_HOME\n",
      "  % Total    % Received % Xferd  Average Speed   Time    Time     Time  Current\n",
      "                                 Dload  Upload   Total   Spent    Left  Speed\n",
      "  0     0    0     0    0     0      0      0 --:--:-- --:--:-- --:--:--     0curl: (7) Failed to connect to localhost port 9344: Connection refused\n",
      "  % Total    % Received % Xferd  Average Speed   Time    Time     Time  Current\n",
      "                                 Dload  Upload   Total   Spent    Left  Speed\n",
      "  0     0    0     0    0     0      0      0 --:--:-- --:--:-- --:--:--     0curl: (7) Failed to connect to localhost port 9344: Connection refused\n",
      "Future versions of Elasticsearch will require Java 11; your Java version from [/usr/local/openjdk-8] does not meet this requirement. Consider switching to a distribution of Elasticsearch with a bundled JDK. If you are already using a distribution with a bundled JDK, ensure the JAVA_HOME environment variable is not set.\n",
      "warning: usage of JAVA_HOME is deprecated, use ES_JAVA_HOME\n",
      "Future versions of Elasticsearch will require Java 11; your Java version from [/usr/local/openjdk-8] does not meet this requirement. Consider switching to a distribution of Elasticsearch with a bundled JDK. If you are already using a distribution with a bundled JDK, ensure the JAVA_HOME environment variable is not set.\n",
      "  % Total    % Received % Xferd  Average Speed   Time    Time     Time  Current\n",
      "                                 Dload  Upload   Total   Spent    Left  Speed\n",
      "  0     0    0     0    0     0      0      0 --:--:-- --:--:-- --:--:--     0curl: (7) Failed to connect to localhost port 9344: Connection refused\n",
      "  % Total    % Received % Xferd  Average Speed   Time    Time     Time  Current\n",
      "                                 Dload  Upload   Total   Spent    Left  Speed\n",
      "  0     0    0     0    0     0      0      0 --:--:-- --:--:-- --:--:--     0curl: (7) Failed to connect to localhost port 9344: Connection refused\n"
     ]
    },
    {
     "name": "stdout",
     "output_type": "stream",
     "text": [
      "[2021-09-18T09:04:24,839][INFO ][o.e.n.Node               ] [75748115e0d4] version[7.13.4], pid[385], build[default/tar/c5f60e894ca0c61cdbae4f5a686d9f08bcefc942/2021-07-14T18:33:36.673943207Z], OS[Linux/5.10.16.3-microsoft-standard-WSL2/amd64], JVM[Oracle Corporation/OpenJDK 64-Bit Server VM/1.8.0_292/25.292-b10]\n",
      "[2021-09-18T09:04:24,842][INFO ][o.e.n.Node               ] [75748115e0d4] JVM home [/usr/local/openjdk-8], using bundled JDK [false]\n",
      "[2021-09-18T09:04:24,843][INFO ][o.e.n.Node               ] [75748115e0d4] JVM arguments [-Xshare:auto, -Des.networkaddress.cache.ttl=60, -Des.networkaddress.cache.negative.ttl=10, -XX:+AlwaysPreTouch, -Xss1m, -Djava.awt.headless=true, -Dfile.encoding=UTF-8, -Djna.nosys=true, -XX:-OmitStackTraceInFastThrow, -Dio.netty.noUnsafe=true, -Dio.netty.noKeySetOptimization=true, -Dio.netty.recycler.maxCapacityPerThread=0, -Dio.netty.allocator.numDirectArenas=0, -Dlog4j.shutdownHookEnabled=false, -Dlog4j2.disable.jmx=true, -Djava.locale.providers=SPI,JRE, -XX:+UseConcMarkSweepGC, -XX:CMSInitiatingOccupancyFraction=75, -XX:+UseCMSInitiatingOccupancyOnly, -Djava.io.tmpdir=/tmp/elasticsearch-5688586564330181243, -XX:+HeapDumpOnOutOfMemoryError, -XX:HeapDumpPath=data, -XX:ErrorFile=logs/hs_err_pid%p.log, -XX:+PrintGCDetails, -XX:+PrintGCDateStamps, -XX:+PrintTenuringDistribution, -XX:+PrintGCApplicationStoppedTime, -Xloggc:logs/gc.log, -XX:+UseGCLogFileRotation, -XX:NumberOfGCLogFiles=32, -XX:GCLogFileSize=64m, -Xms1024m, -Xmx1024m, -XX:MaxDirectMemorySize=536870912, -Des.path.home=/dcd_data/es/elasticsearch_organization, -Des.path.conf=/dcd_data/es/elasticsearch_organization/config, -Des.distribution.flavor=default, -Des.distribution.type=tar, -Des.bundled_jdk=true]\n"
     ]
    },
    {
     "name": "stderr",
     "output_type": "stream",
     "text": [
      "  % Total    % Received % Xferd  Average Speed   Time    Time     Time  Current\n",
      "                                 Dload  Upload   Total   Spent    Left  Speed\n",
      "\r",
      "  0     0    0     0    0     0      0      0 --:--:-- --:--:-- --:--:--     0curl: (7) Failed to connect to localhost port 9344: Connection refused\n",
      "  % Total    % Received % Xferd  Average Speed   Time    Time     Time  Current\n",
      "                                 Dload  Upload   Total   Spent    Left  Speed\n",
      "\r",
      "  0     0    0     0    0     0      0      0 --:--:-- --:--:-- --:--:--     0curl: (7) Failed to connect to localhost port 9344: Connection refused\n"
     ]
    },
    {
     "name": "stdout",
     "output_type": "stream",
     "text": [
      "[2021-09-18T09:04:35,430][INFO ][o.e.p.PluginsService     ] [75748115e0d4] loaded module [aggs-matrix-stats]\n",
      "[2021-09-18T09:04:35,431][INFO ][o.e.p.PluginsService     ] [75748115e0d4] loaded module [analysis-common]\n",
      "[2021-09-18T09:04:35,432][INFO ][o.e.p.PluginsService     ] [75748115e0d4] loaded module [constant-keyword]\n",
      "[2021-09-18T09:04:35,433][INFO ][o.e.p.PluginsService     ] [75748115e0d4] loaded module [frozen-indices]\n",
      "[2021-09-18T09:04:35,434][INFO ][o.e.p.PluginsService     ] [75748115e0d4] loaded module [ingest-common]\n",
      "[2021-09-18T09:04:35,435][INFO ][o.e.p.PluginsService     ] [75748115e0d4] loaded module [ingest-geoip]\n",
      "[2021-09-18T09:04:35,436][INFO ][o.e.p.PluginsService     ] [75748115e0d4] loaded module [ingest-user-agent]\n",
      "[2021-09-18T09:04:35,437][INFO ][o.e.p.PluginsService     ] [75748115e0d4] loaded module [kibana]\n",
      "[2021-09-18T09:04:35,438][INFO ][o.e.p.PluginsService     ] [75748115e0d4] loaded module [lang-expression]\n",
      "[2021-09-18T09:04:35,439][INFO ][o.e.p.PluginsService     ] [75748115e0d4] loaded module [lang-mustache]\n",
      "[2021-09-18T09:04:35,440][INFO ][o.e.p.PluginsService     ] [75748115e0d4] loaded module [lang-painless]\n",
      "[2021-09-18T09:04:35,441][INFO ][o.e.p.PluginsService     ] [75748115e0d4] loaded module [mapper-extras]\n",
      "[2021-09-18T09:04:35,442][INFO ][o.e.p.PluginsService     ] [75748115e0d4] loaded module [mapper-version]\n",
      "[2021-09-18T09:04:35,443][INFO ][o.e.p.PluginsService     ] [75748115e0d4] loaded module [parent-join]\n",
      "[2021-09-18T09:04:35,444][INFO ][o.e.p.PluginsService     ] [75748115e0d4] loaded module [percolator]\n",
      "[2021-09-18T09:04:35,445][INFO ][o.e.p.PluginsService     ] [75748115e0d4] loaded module [rank-eval]\n",
      "[2021-09-18T09:04:35,446][INFO ][o.e.p.PluginsService     ] [75748115e0d4] loaded module [reindex]\n",
      "[2021-09-18T09:04:35,447][INFO ][o.e.p.PluginsService     ] [75748115e0d4] loaded module [repositories-metering-api]\n",
      "[2021-09-18T09:04:35,448][INFO ][o.e.p.PluginsService     ] [75748115e0d4] loaded module [repository-encrypted]\n",
      "[2021-09-18T09:04:35,449][INFO ][o.e.p.PluginsService     ] [75748115e0d4] loaded module [repository-url]\n",
      "[2021-09-18T09:04:35,450][INFO ][o.e.p.PluginsService     ] [75748115e0d4] loaded module [runtime-fields-common]\n",
      "[2021-09-18T09:04:35,450][INFO ][o.e.p.PluginsService     ] [75748115e0d4] loaded module [search-business-rules]\n",
      "[2021-09-18T09:04:35,451][INFO ][o.e.p.PluginsService     ] [75748115e0d4] loaded module [searchable-snapshots]\n",
      "[2021-09-18T09:04:35,452][INFO ][o.e.p.PluginsService     ] [75748115e0d4] loaded module [snapshot-repo-test-kit]\n",
      "[2021-09-18T09:04:35,453][INFO ][o.e.p.PluginsService     ] [75748115e0d4] loaded module [spatial]\n",
      "[2021-09-18T09:04:35,454][INFO ][o.e.p.PluginsService     ] [75748115e0d4] loaded module [transform]\n",
      "[2021-09-18T09:04:35,454][INFO ][o.e.p.PluginsService     ] [75748115e0d4] loaded module [transport-netty4]\n",
      "[2021-09-18T09:04:35,455][INFO ][o.e.p.PluginsService     ] [75748115e0d4] loaded module [unsigned-long]\n",
      "[2021-09-18T09:04:35,456][INFO ][o.e.p.PluginsService     ] [75748115e0d4] loaded module [vectors]\n",
      "[2021-09-18T09:04:35,457][INFO ][o.e.p.PluginsService     ] [75748115e0d4] loaded module [wildcard]\n",
      "[2021-09-18T09:04:35,458][INFO ][o.e.p.PluginsService     ] [75748115e0d4] loaded module [x-pack-aggregate-metric]\n",
      "[2021-09-18T09:04:35,459][INFO ][o.e.p.PluginsService     ] [75748115e0d4] loaded module [x-pack-analytics]\n",
      "[2021-09-18T09:04:35,460][INFO ][o.e.p.PluginsService     ] [75748115e0d4] loaded module [x-pack-async]\n",
      "[2021-09-18T09:04:35,461][INFO ][o.e.p.PluginsService     ] [75748115e0d4] loaded module [x-pack-async-search]\n",
      "[2021-09-18T09:04:35,462][INFO ][o.e.p.PluginsService     ] [75748115e0d4] loaded module [x-pack-autoscaling]\n",
      "[2021-09-18T09:04:35,463][INFO ][o.e.p.PluginsService     ] [75748115e0d4] loaded module [x-pack-ccr]\n",
      "[2021-09-18T09:04:35,464][INFO ][o.e.p.PluginsService     ] [75748115e0d4] loaded module [x-pack-core]\n",
      "[2021-09-18T09:04:35,465][INFO ][o.e.p.PluginsService     ] [75748115e0d4] loaded module [x-pack-data-streams]\n",
      "[2021-09-18T09:04:35,466][INFO ][o.e.p.PluginsService     ] [75748115e0d4] loaded module [x-pack-deprecation]\n",
      "[2021-09-18T09:04:35,468][INFO ][o.e.p.PluginsService     ] [75748115e0d4] loaded module [x-pack-enrich]\n",
      "[2021-09-18T09:04:35,468][INFO ][o.e.p.PluginsService     ] [75748115e0d4] loaded module [x-pack-eql]\n",
      "[2021-09-18T09:04:35,469][INFO ][o.e.p.PluginsService     ] [75748115e0d4] loaded module [x-pack-fleet]\n",
      "[2021-09-18T09:04:35,471][INFO ][o.e.p.PluginsService     ] [75748115e0d4] loaded module [x-pack-graph]\n",
      "[2021-09-18T09:04:35,472][INFO ][o.e.p.PluginsService     ] [75748115e0d4] loaded module [x-pack-identity-provider]\n",
      "[2021-09-18T09:04:35,473][INFO ][o.e.p.PluginsService     ] [75748115e0d4] loaded module [x-pack-ilm]\n",
      "[2021-09-18T09:04:35,474][INFO ][o.e.p.PluginsService     ] [75748115e0d4] loaded module [x-pack-logstash]\n",
      "[2021-09-18T09:04:35,475][INFO ][o.e.p.PluginsService     ] [75748115e0d4] loaded module [x-pack-ml]\n",
      "[2021-09-18T09:04:35,476][INFO ][o.e.p.PluginsService     ] [75748115e0d4] loaded module [x-pack-monitoring]\n",
      "[2021-09-18T09:04:35,477][INFO ][o.e.p.PluginsService     ] [75748115e0d4] loaded module [x-pack-ql]\n",
      "[2021-09-18T09:04:35,477][INFO ][o.e.p.PluginsService     ] [75748115e0d4] loaded module [x-pack-rollup]\n",
      "[2021-09-18T09:04:35,478][INFO ][o.e.p.PluginsService     ] [75748115e0d4] loaded module [x-pack-security]\n",
      "[2021-09-18T09:04:35,479][INFO ][o.e.p.PluginsService     ] [75748115e0d4] loaded module [x-pack-shutdown]\n",
      "[2021-09-18T09:04:35,480][INFO ][o.e.p.PluginsService     ] [75748115e0d4] loaded module [x-pack-sql]\n",
      "[2021-09-18T09:04:35,481][INFO ][o.e.p.PluginsService     ] [75748115e0d4] loaded module [x-pack-stack]\n",
      "[2021-09-18T09:04:35,482][INFO ][o.e.p.PluginsService     ] [75748115e0d4] loaded module [x-pack-text-structure]\n",
      "[2021-09-18T09:04:35,482][INFO ][o.e.p.PluginsService     ] [75748115e0d4] loaded module [x-pack-voting-only-node]\n",
      "[2021-09-18T09:04:35,483][INFO ][o.e.p.PluginsService     ] [75748115e0d4] loaded module [x-pack-watcher]\n",
      "[2021-09-18T09:04:35,484][INFO ][o.e.p.PluginsService     ] [75748115e0d4] no plugins loaded\n",
      "[2021-09-18T09:04:35,590][INFO ][o.e.e.NodeEnvironment    ] [75748115e0d4] using [1] data paths, mounts [[/dcd_data (E:\\)]], net usable_space [1.1tb], net total_space [1.8tb], types [9p]\n",
      "[2021-09-18T09:04:35,594][INFO ][o.e.e.NodeEnvironment    ] [75748115e0d4] heap size [989.8mb], compressed ordinary object pointers [true]\n",
      "[2021-09-18T09:04:38,411][INFO ][o.e.n.Node               ] [75748115e0d4] node name [75748115e0d4], node ID [JJ1rlS2GTP2aQRHARLdqcw], cluster name [elasticsearch], roles [transform, data_frozen, master, remote_cluster_client, data, ml, data_content, data_hot, data_warm, data_cold, ingest]\n"
     ]
    },
    {
     "name": "stderr",
     "output_type": "stream",
     "text": [
      "  % Total    % Received % Xferd  Average Speed   Time    Time     Time  Current\n",
      "                                 Dload  Upload   Total   Spent    Left  Speed\n",
      "\r",
      "  0     0    0     0    0     0      0      0 --:--:-- --:--:-- --:--:--     0curl: (7) Failed to connect to localhost port 9344: Connection refused\n",
      "  % Total    % Received % Xferd  Average Speed   Time    Time     Time  Current\n",
      "                                 Dload  Upload   Total   Spent    Left  Speed\n",
      "\r",
      "  0     0    0     0    0     0      0      0 --:--:-- --:--:-- --:--:--     0curl: (7) Failed to connect to localhost port 9344: Connection refused\n"
     ]
    },
    {
     "name": "stdout",
     "output_type": "stream",
     "text": [
      "[2021-09-18T09:04:44,820][INFO ][o.e.x.m.p.l.CppLogMessageHandler] [75748115e0d4] [controller/725] [Main.cc@117] controller (64 bit): Version 7.13.4 (Build 20e31b9391ed28) Copyright (c) 2021 Elasticsearch BV\n",
      "[2021-09-18T09:04:45,634][INFO ][o.e.x.s.a.s.FileRolesStore] [75748115e0d4] parsed [0] roles from file [/dcd_data/es/elasticsearch_organization/config/roles.yml]\n",
      "[2021-09-18T09:04:47,095][INFO ][o.e.i.g.LocalDatabases   ] [75748115e0d4] initialized default databases [[GeoLite2-Country.mmdb, GeoLite2-City.mmdb, GeoLite2-ASN.mmdb]], config databases [[]] and watching [/dcd_data/es/elasticsearch_organization/config/ingest-geoip] for changes\n",
      "[2021-09-18T09:04:47,097][INFO ][o.e.i.g.DatabaseRegistry ] [75748115e0d4] initialized database registry, using geoip-databases directory [/tmp/elasticsearch-5688586564330181243/geoip-databases/JJ1rlS2GTP2aQRHARLdqcw]\n",
      "[2021-09-18T09:04:48,310][INFO ][o.e.t.NettyAllocator     ] [75748115e0d4] creating NettyAllocator with the following configs: [name=unpooled, suggested_max_allocation_size=1mb, factors={es.unsafe.use_unpooled_allocator=null, g1gc_enabled=false, g1gc_region_size=0b, heap_size=989.8mb}]\n",
      "[2021-09-18T09:04:48,444][INFO ][o.e.d.DiscoveryModule    ] [75748115e0d4] using discovery type [zen] and seed hosts providers [settings]\n",
      "[2021-09-18T09:04:49,427][INFO ][o.e.g.DanglingIndicesState] [75748115e0d4] gateway.auto_import_dangling_indices is disabled, dangling indices will not be automatically detected or imported and must be managed manually\n",
      "[2021-09-18T09:04:50,519][INFO ][o.e.n.Node               ] [75748115e0d4] initialized\n",
      "[2021-09-18T09:04:50,521][INFO ][o.e.n.Node               ] [75748115e0d4] starting ...\n",
      "[2021-09-18T09:04:51,225][INFO ][o.e.x.s.c.f.PersistentCache] [75748115e0d4] persistent cache index loaded\n",
      "[2021-09-18T09:04:51,483][INFO ][o.e.t.TransportService   ] [75748115e0d4] publish_address {localhost/127.0.0.1:9300}, bound_addresses {127.0.0.1:9300}\n",
      "[2021-09-18T09:04:52,715][WARN ][o.e.b.BootstrapChecks    ] [75748115e0d4] max virtual memory areas vm.max_map_count [65530] is too low, increase to at least [262144]\n",
      "[2021-09-18T09:04:52,716][WARN ][o.e.b.BootstrapChecks    ] [75748115e0d4] the default discovery settings are unsuitable for production use; at least one of [discovery.seed_hosts, discovery.seed_providers, cluster.initial_master_nodes] must be configured\n",
      "[2021-09-18T09:04:52,720][INFO ][o.e.c.c.Coordinator      ] [75748115e0d4] cluster UUID [udX2hak7R8CbHHYx8C0b8A]\n",
      "[2021-09-18T09:04:52,739][INFO ][o.e.c.c.ClusterBootstrapService] [75748115e0d4] no discovery configuration found, will perform best-effort cluster bootstrapping after [3s] unless existing master is discovered\n",
      "[2021-09-18T09:04:52,934][INFO ][o.e.c.s.MasterService    ] [75748115e0d4] elected-as-master ([1] nodes joined)[{75748115e0d4}{JJ1rlS2GTP2aQRHARLdqcw}{yjru_FsSQICLxAxlzXnuUQ}{localhost}{127.0.0.1:9300}{cdfhilmrstw} elect leader, _BECOME_MASTER_TASK_, _FINISH_ELECTION_], term: 12, version: 352, delta: master node changed {previous [], current [{75748115e0d4}{JJ1rlS2GTP2aQRHARLdqcw}{yjru_FsSQICLxAxlzXnuUQ}{localhost}{127.0.0.1:9300}{cdfhilmrstw}]}\n",
      "[2021-09-18T09:04:53,313][INFO ][o.e.c.s.ClusterApplierService] [75748115e0d4] master node changed {previous [], current [{75748115e0d4}{JJ1rlS2GTP2aQRHARLdqcw}{yjru_FsSQICLxAxlzXnuUQ}{localhost}{127.0.0.1:9300}{cdfhilmrstw}]}, term: 12, version: 352, reason: Publication{term=12, version=352}\n",
      "[2021-09-18T09:04:53,424][INFO ][o.e.h.AbstractHttpServerTransport] [75748115e0d4] publish_address {172.17.0.9:9344}, bound_addresses {0.0.0.0:9344}\n",
      "[2021-09-18T09:04:53,425][INFO ][o.e.n.Node               ] [75748115e0d4] started\n"
     ]
    },
    {
     "name": "stderr",
     "output_type": "stream",
     "text": [
      "  % Total    % Received % Xferd  Average Speed   Time    Time     Time  Current\n",
      "                                 Dload  Upload   Total   Spent    Left  Speed\n",
      "\r",
      "  0     0    0     0    0     0      0      0 --:--:-- --:--:-- --:--:--     0"
     ]
    },
    {
     "name": "stdout",
     "output_type": "stream",
     "text": [
      "[2021-09-18T09:04:54,800][INFO ][o.e.l.LicenseService     ] [75748115e0d4] license [74578127-ecdf-4f84-a858-94cc27d73281] mode [basic] - valid\n",
      "[2021-09-18T09:04:54,806][INFO ][o.e.x.s.s.SecurityStatusChangeListener] [75748115e0d4] Active license is now [BASIC]; Security is disabled\n",
      "[2021-09-18T09:04:54,807][WARN ][o.e.x.s.s.SecurityStatusChangeListener] [75748115e0d4] Elasticsearch built-in security features are not enabled. Without authentication, your cluster could be accessible to anyone. See https://www.elastic.co/guide/en/elasticsearch/reference/7.13/security-minimal-setup.html to enable security.\n",
      "[2021-09-18T09:04:54,836][INFO ][o.e.g.GatewayService     ] [75748115e0d4] recovered [9] indices into cluster_state\n"
     ]
    },
    {
     "name": "stderr",
     "output_type": "stream",
     "text": [
      "\r",
      "100    79    0     0  100    79      0     65  0:00:01  0:00:01 --:--:--    65"
     ]
    },
    {
     "name": "stdout",
     "output_type": "stream",
     "text": [
      "[2021-09-18T09:04:56,352][INFO ][o.e.c.s.ClusterSettings  ] [75748115e0d4] updating [cluster.routing.allocation.disk.threshold_enabled] from [true] to [false]\n",
      "[2021-09-18T09:04:56,353][INFO ][o.e.c.s.ClusterSettings  ] [75748115e0d4] updating [cluster.routing.allocation.disk.threshold_enabled] from [true] to [false]\n",
      "[2021-09-18T09:04:56,354][INFO ][o.e.c.s.ClusterSettings  ] [75748115e0d4] updating [cluster.routing.allocation.disk.threshold_enabled] from [true] to [false]\n",
      "[2021-09-18T09:04:56,354][INFO ][o.e.c.s.ClusterSettings  ] [75748115e0d4] updating [cluster.routing.allocation.disk.threshold_enabled] from [true] to [false]\n",
      "[2021-09-18T09:04:56,355][INFO ][o.e.c.s.ClusterSettings  ] [75748115e0d4] updating [cluster.routing.allocation.disk.threshold_enabled] from [true] to [false]\n"
     ]
    },
    {
     "name": "stderr",
     "output_type": "stream",
     "text": [
      "100    79    0     0  100    79      0     15  0:00:05  0:00:05 --:--:--    15"
     ]
    },
    {
     "name": "stdout",
     "output_type": "stream",
     "text": [
      "{\"acknowledged\":true,\"persistent\":{},\"transient\":{\"cluster\":{\"routing\":{\"allocation\":{\"disk\":{\"threshold_enabled\":\"false\"}}}}}}"
     ]
    },
    {
     "name": "stderr",
     "output_type": "stream",
     "text": [
      "\r",
      "100   206  100   127  100    79     21     13  0:00:06  0:00:05  0:00:01    27\r",
      "100   206  100   127  100    79     21     13  0:00:06  0:00:05  0:00:01    34\n",
      "  % Total    % Received % Xferd  Average Speed   Time    Time     Time  Current\n",
      "                                 Dload  Upload   Total   Spent    Left  Speed\n",
      "\r",
      "  0     0    0     0    0     0      0      0 --:--:-- --:--:-- --:--:--     0"
     ]
    },
    {
     "name": "stdout",
     "output_type": "stream",
     "text": [
      "{\"acknowledged\":true}"
     ]
    },
    {
     "name": "stderr",
     "output_type": "stream",
     "text": [
      "\r",
      "100    66  100    21  100    45     20     44  0:00:01  0:00:01 --:--:--    65\r",
      "100    66  100    21  100    45     20     44  0:00:01  0:00:01 --:--:--    65\n"
     ]
    }
   ],
   "source": [
    "from yan_organization_kg_search import *"
   ]
  },
  {
   "cell_type": "code",
   "execution_count": 4,
   "id": "93e33d58",
   "metadata": {},
   "outputs": [
    {
     "data": {
      "text/plain": [
       "'https://www.linkedin.com/company/group42ai/about/'"
      ]
     },
     "execution_count": 4,
     "metadata": {},
     "output_type": "execute_result"
    }
   ],
   "source": [
    "search_organization_by_name(\"G42\")"
   ]
  },
  {
   "cell_type": "code",
   "execution_count": 6,
   "id": "baed5ef4",
   "metadata": {},
   "outputs": [
    {
     "data": {
      "text/plain": [
       "'https://www.linkedin.com/company/transmex-systems-international/about/'"
      ]
     },
     "execution_count": 6,
     "metadata": {},
     "output_type": "execute_result"
    }
   ],
   "source": [
    "search_organization_by_logo(\"/kg_data/logo/tsi1.png\")"
   ]
  }
 ],
 "metadata": {
  "kernelspec": {
   "display_name": "Python 3 (ipykernel)",
   "language": "python",
   "name": "python3"
  },
  "language_info": {
   "codemirror_mode": {
    "name": "ipython",
    "version": 3
   },
   "file_extension": ".py",
   "mimetype": "text/x-python",
   "name": "python",
   "nbconvert_exporter": "python",
   "pygments_lexer": "ipython3",
   "version": "3.7.3"
  }
 },
 "nbformat": 4,
 "nbformat_minor": 5
}
